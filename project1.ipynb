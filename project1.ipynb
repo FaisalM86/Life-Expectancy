{
 "cells": [
  {
   "cell_type": "code",
   "execution_count": 2,
   "metadata": {},
   "outputs": [],
   "source": [
    "import pandas as pd\n",
    "from pandas_profiling import ProfileReport"
   ]
  },
  {
   "cell_type": "code",
   "execution_count": 7,
   "metadata": {},
   "outputs": [
    {
     "name": "stdout",
     "output_type": "stream",
     "text": [
      "Index(['Country', 'Year', 'Status', 'Life expectancy ', 'Adult Mortality',\n",
      "       'infant deaths', 'Alcohol', 'percentage expenditure', 'Hepatitis B',\n",
      "       'Measles ', ' BMI ', 'under-five deaths ', 'Polio', 'Total expenditure',\n",
      "       'Diphtheria ', ' HIV/AIDS', 'GDP', 'Population',\n",
      "       ' thinness  1-19 years', ' thinness 5-9 years',\n",
      "       'Income composition of resources', 'Schooling'],\n",
      "      dtype='object')\n"
     ]
    }
   ],
   "source": [
    "data = pd.read_csv('./Life Expectancy Data.csv')\n",
    "\n",
    "# print the headers\n",
    "print(data.columns)"
   ]
  },
  {
   "cell_type": "code",
   "execution_count": 4,
   "metadata": {},
   "outputs": [
    {
     "name": "stdout",
     "output_type": "stream",
     "text": [
      "['Afghanistan' 'Albania' 'Algeria' 'Angola' 'Antigua and Barbuda'\n",
      " 'Argentina' 'Armenia' 'Australia' 'Austria' 'Azerbaijan' 'Bahamas'\n",
      " 'Bahrain' 'Bangladesh' 'Barbados' 'Belarus' 'Belgium' 'Belize' 'Benin'\n",
      " 'Bhutan' 'Bolivia (Plurinational State of)' 'Bosnia and Herzegovina'\n",
      " 'Botswana' 'Brazil' 'Brunei Darussalam' 'Bulgaria' 'Burkina Faso'\n",
      " 'Burundi' \"Côte d'Ivoire\" 'Cabo Verde' 'Cambodia' 'Cameroon' 'Canada'\n",
      " 'Central African Republic' 'Chad' 'Chile' 'China' 'Colombia' 'Comoros'\n",
      " 'Congo' 'Cook Islands' 'Costa Rica' 'Croatia' 'Cuba' 'Cyprus' 'Czechia'\n",
      " \"Democratic People's Republic of Korea\"\n",
      " 'Democratic Republic of the Congo' 'Denmark' 'Djibouti' 'Dominica'\n",
      " 'Dominican Republic' 'Ecuador' 'Egypt' 'El Salvador' 'Equatorial Guinea'\n",
      " 'Eritrea' 'Estonia' 'Ethiopia' 'Fiji' 'Finland' 'France' 'Gabon' 'Gambia'\n",
      " 'Georgia' 'Germany' 'Ghana' 'Greece' 'Grenada' 'Guatemala' 'Guinea'\n",
      " 'Guinea-Bissau' 'Guyana' 'Haiti' 'Honduras' 'Hungary' 'Iceland' 'India'\n",
      " 'Indonesia' 'Iran (Islamic Republic of)' 'Iraq' 'Ireland' 'Israel'\n",
      " 'Italy' 'Jamaica' 'Japan' 'Jordan' 'Kazakhstan' 'Kenya' 'Kiribati'\n",
      " 'Kuwait' 'Kyrgyzstan' \"Lao People's Democratic Republic\" 'Latvia'\n",
      " 'Lebanon' 'Lesotho' 'Liberia' 'Libya' 'Lithuania' 'Luxembourg'\n",
      " 'Madagascar' 'Malawi' 'Malaysia' 'Maldives' 'Mali' 'Malta'\n",
      " 'Marshall Islands' 'Mauritania' 'Mauritius' 'Mexico'\n",
      " 'Micronesia (Federated States of)' 'Monaco' 'Mongolia' 'Montenegro'\n",
      " 'Morocco' 'Mozambique' 'Myanmar' 'Namibia' 'Nauru' 'Nepal' 'Netherlands'\n",
      " 'New Zealand' 'Nicaragua' 'Niger' 'Nigeria' 'Niue' 'Norway' 'Oman'\n",
      " 'Pakistan' 'Palau' 'Panama' 'Papua New Guinea' 'Paraguay' 'Peru'\n",
      " 'Philippines' 'Poland' 'Portugal' 'Qatar' 'Republic of Korea'\n",
      " 'Republic of Moldova' 'Romania' 'Russian Federation' 'Rwanda'\n",
      " 'Saint Kitts and Nevis' 'Saint Lucia' 'Saint Vincent and the Grenadines'\n",
      " 'Samoa' 'San Marino' 'Sao Tome and Principe' 'Saudi Arabia' 'Senegal'\n",
      " 'Serbia' 'Seychelles' 'Sierra Leone' 'Singapore' 'Slovakia' 'Slovenia'\n",
      " 'Solomon Islands' 'Somalia' 'South Africa' 'South Sudan' 'Spain'\n",
      " 'Sri Lanka' 'Sudan' 'Suriname' 'Swaziland' 'Sweden' 'Switzerland'\n",
      " 'Syrian Arab Republic' 'Tajikistan' 'Thailand'\n",
      " 'The former Yugoslav republic of Macedonia' 'Timor-Leste' 'Togo' 'Tonga'\n",
      " 'Trinidad and Tobago' 'Tunisia' 'Turkey' 'Turkmenistan' 'Tuvalu' 'Uganda'\n",
      " 'Ukraine' 'United Arab Emirates'\n",
      " 'United Kingdom of Great Britain and Northern Ireland'\n",
      " 'United Republic of Tanzania' 'United States of America' 'Uruguay'\n",
      " 'Uzbekistan' 'Vanuatu' 'Venezuela (Bolivarian Republic of)' 'Viet Nam'\n",
      " 'Yemen' 'Zambia' 'Zimbabwe']\n"
     ]
    }
   ],
   "source": [
    "# Sliceing the data for each year and comparing the data\n",
    "# ex finding the life expectancy value (>65) in norway the comparing it with the next five year up to 2015\n",
    "# and comparing that to other factors like Achcohol or disease mentioned in the data (Find reason) \n",
    "\n",
    "# slice the data from each year\n",
    "data_2015 = data[data['Year'] == 2015]\n",
    "data_2016 = data[data['Year'] == 2016]\n",
    "data_2017 = data[data['Year'] == 2017]\n"
   ]
  },
  {
   "cell_type": "code",
   "execution_count": 5,
   "metadata": {},
   "outputs": [
    {
     "name": "stdout",
     "output_type": "stream",
     "text": [
      "['Afghanistan' 'Angola' 'Benin' 'Bhutan'\n",
      " 'Bolivia (Plurinational State of)' 'Botswana' 'Burkina Faso' 'Burundi'\n",
      " \"Côte d'Ivoire\" 'Cambodia' 'Cameroon' 'Central African Republic' 'Chad'\n",
      " 'Comoros' 'Congo' 'Democratic Republic of the Congo' 'Djibouti'\n",
      " 'Equatorial Guinea' 'Eritrea' 'Ethiopia' 'Gabon' 'Gambia' 'Ghana'\n",
      " 'Guinea' 'Guinea-Bissau' 'Haiti' 'India' 'Iraq' 'Kazakhstan' 'Kenya'\n",
      " 'Kiribati' \"Lao People's Democratic Republic\" 'Lesotho' 'Liberia'\n",
      " 'Madagascar' 'Malawi' 'Mali' 'Mauritania' 'Mongolia' 'Mozambique'\n",
      " 'Myanmar' 'Namibia' 'Nepal' 'Niger' 'Nigeria' 'Pakistan'\n",
      " 'Papua New Guinea' 'Russian Federation' 'Rwanda' 'Sao Tome and Principe'\n",
      " 'Senegal' 'Sierra Leone' 'Somalia' 'South Africa' 'South Sudan' 'Sudan'\n",
      " 'Swaziland' 'Syrian Arab Republic' 'Tajikistan' 'Timor-Leste' 'Togo'\n",
      " 'Turkmenistan' 'Uganda' 'United Republic of Tanzania' 'Yemen' 'Zambia'\n",
      " 'Zimbabwe']\n"
     ]
    }
   ],
   "source": [
    "# Print all the counties which have life expecctancy lower then 65\n",
    "print(data[data['Life expectancy '] < 65]['Country'].unique())"
   ]
  },
  {
   "cell_type": "code",
   "execution_count": 8,
   "metadata": {},
   "outputs": [
    {
     "data": {
      "text/plain": [
       "' Using the data \\n    1. Find the life expectancy in each country\\n    2. Find the life expectancy in each country for each year\\n    3. Find the life expectancy in each country for each year and compare it with the alcohol consumption\\n    4. Find the life expectancy in each country for each year and compare it with the disease\\n    5. Find the life expectancy in each country for each year and compare it with the income\\n    6. Find the life expectancy in each country for each year and compare it with the schooling\\n    7. Find the life expectancy in each country for each year and compare it with the BMI\\n    8. Find the life expectancy in each country for each year and compare it with the GDP\\n    9. Find the life expectancy in each country for each year and compare it with the population\\n    10. Find the life expectancy in each country for each year and compare it with the smoking\\n    11. Find the life expectancy in each country for each year and compare it with the polution'"
      ]
     },
     "execution_count": 8,
     "metadata": {},
     "output_type": "execute_result"
    }
   ],
   "source": [
    "\"\"\" Using the data \n",
    "    1. Find the life expectancy in each country\n",
    "    2. Find the life expectancy in each country for each year\n",
    "    3. Find the life expectancy in each country for each year and compare it with the alcohol consumption\n",
    "    4. Find the life expectancy in each country for each year and compare it with the disease\n",
    "    5. Find the life expectancy in each country for each year and compare it with the income\n",
    "    6. Find the life expectancy in each country for each year and compare it with the schooling\n",
    "    7. Find the life expectancy in each country for each year and compare it with the BMI\n",
    "    8. Find the life expectancy in each country for each year and compare it with the GDP\n",
    "    9. Find the life expectancy in each country for each year and compare it with the population\n",
    "    10. Find the life expectancy in each country for each year and compare it with the smoking\n",
    "    11. Find the life expectancy in each country for each year and compare it with the polution\"\"\"\n"
   ]
  },
  {
   "cell_type": "code",
   "execution_count": 9,
   "metadata": {},
   "outputs": [
    {
     "name": "stdout",
     "output_type": "stream",
     "text": [
      "Country\n",
      "Afghanistan                           58.19375\n",
      "Albania                               75.15625\n",
      "Algeria                               73.61875\n",
      "Angola                                49.01875\n",
      "Antigua and Barbuda                   75.05625\n",
      "                                        ...   \n",
      "Venezuela (Bolivarian Republic of)    73.38750\n",
      "Viet Nam                              74.77500\n",
      "Yemen                                 63.86250\n",
      "Zambia                                53.90625\n",
      "Zimbabwe                              50.48750\n",
      "Name: Life expectancy , Length: 193, dtype: float64\n"
     ]
    }
   ],
   "source": [
    "# 1. Find the life expectancy in each country\n",
    "print(data.groupby('Country')['Life expectancy '].mean())\n"
   ]
  },
  {
   "cell_type": "code",
   "execution_count": 10,
   "metadata": {},
   "outputs": [
    {
     "name": "stdout",
     "output_type": "stream",
     "text": [
      "Country      Year\n",
      "Afghanistan  2000    54.8\n",
      "             2001    55.3\n",
      "             2002    56.2\n",
      "             2003    56.7\n",
      "             2004    57.0\n",
      "                     ... \n",
      "Zimbabwe     2011    54.9\n",
      "             2012    56.6\n",
      "             2013    58.0\n",
      "             2014    59.2\n",
      "             2015    67.0\n",
      "Name: Life expectancy , Length: 2938, dtype: float64\n"
     ]
    }
   ],
   "source": [
    "# 2. Find the life expectancy in each country for each year\n",
    "print(data.groupby(['Country', 'Year'])['Life expectancy '].mean())"
   ]
  },
  {
   "cell_type": "code",
   "execution_count": 11,
   "metadata": {},
   "outputs": [
    {
     "name": "stdout",
     "output_type": "stream",
     "text": [
      "                  Life expectancy   Alcohol\n",
      "Country     Year                           \n",
      "Afghanistan 2000              54.8     0.01\n",
      "            2001              55.3     0.01\n",
      "            2002              56.2     0.01\n",
      "            2003              56.7     0.01\n",
      "            2004              57.0     0.02\n",
      "...                            ...      ...\n",
      "Zimbabwe    2011              54.9     6.00\n",
      "            2012              56.6     6.09\n",
      "            2013              58.0     6.39\n",
      "            2014              59.2     6.50\n",
      "            2015              67.0      NaN\n",
      "\n",
      "[2938 rows x 2 columns]\n"
     ]
    },
    {
     "name": "stderr",
     "output_type": "stream",
     "text": [
      "C:\\Users\\Faisal\\AppData\\Local\\Temp\\ipykernel_7452\\847042595.py:2: FutureWarning: Indexing with multiple keys (implicitly converted to a tuple of keys) will be deprecated, use a list instead.\n",
      "  print(data.groupby(['Country', 'Year'])['Life expectancy ', 'Alcohol'].mean())\n"
     ]
    }
   ],
   "source": [
    "# 3. Find the life expectancy in each country for each year and compare it with the alcohol consumption\n",
    "print(data.groupby(['Country', 'Year'])['Life expectancy ', 'Alcohol'].mean())"
   ]
  },
  {
   "cell_type": "code",
   "execution_count": null,
   "metadata": {},
   "outputs": [],
   "source": [
    "# 4. Find the life expectancy in each country for each year and compare it with the disease\n",
    "print(data.groupby(['Country', 'Year'])['Life expectancy ', 'Hepatitis B', 'Measles ', ' BMI ', 'Polio', 'Total expenditure', 'Diphtheria ', ' HIV/AIDS', 'GDP', 'Population', ' thinness  1-19 years', ' thinness 5-9 years', 'Income composition of resources', 'Schooling'].mean())\n"
   ]
  },
  {
   "cell_type": "code",
   "execution_count": null,
   "metadata": {},
   "outputs": [],
   "source": [
    "# 5. Find the life expectancy in each country for each year and compare it with the income\n",
    "print(data.groupby(['Country', 'Year'])['Life expectancy ', 'Income composition of resources'].mean())"
   ]
  },
  {
   "cell_type": "code",
   "execution_count": null,
   "metadata": {},
   "outputs": [],
   "source": [
    "# 6. Find the life expectancy in each country for each year and compare it with the schooling\n",
    "print(data.groupby(['Country', 'Year'])['Life expectancy ', 'Schooling'].mean())"
   ]
  },
  {
   "cell_type": "code",
   "execution_count": null,
   "metadata": {},
   "outputs": [],
   "source": [
    "# 7. Find the life expectancy in each country for each year and compare it with the BMI\n",
    "print(data.groupby(['Country', 'Year'])['Life expectancy ', ' BMI '].mean())"
   ]
  },
  {
   "cell_type": "code",
   "execution_count": null,
   "metadata": {},
   "outputs": [],
   "source": [
    "# 8. Find the life expectancy in each country for each year and compare it with the GDP\n",
    "print(data.groupby(['Country', 'Year'])['Life expectancy ', 'GDP'].mean())"
   ]
  },
  {
   "cell_type": "code",
   "execution_count": null,
   "metadata": {},
   "outputs": [],
   "source": [
    "# 9. Find the life expectancy in each country for each year and compare it with the population\n",
    "print(data.groupby(['Country', 'Year'])['Life expectancy ', 'Population'].mean())"
   ]
  },
  {
   "cell_type": "code",
   "execution_count": null,
   "metadata": {},
   "outputs": [],
   "source": [
    "# 10. Find the life expectancy in each country for each year and compare it with the smoking\n",
    "print(data.groupby(['Country', 'Year'])['Life expectancy ', 'Adult Mortality'].mean())"
   ]
  },
  {
   "cell_type": "code",
   "execution_count": null,
   "metadata": {},
   "outputs": [],
   "source": [
    "# 11. Find the life expectancy in each country for each year and compare it with the polution\n",
    "print(data.groupby(['Country', 'Year'])['Life expectancy ', ' thinness  1-19 years', ' thinness 5-9 years'].mean())"
   ]
  }
 ],
 "metadata": {
  "kernelspec": {
   "display_name": "Python 3",
   "language": "python",
   "name": "python3"
  },
  "language_info": {
   "codemirror_mode": {
    "name": "ipython",
    "version": 3
   },
   "file_extension": ".py",
   "mimetype": "text/x-python",
   "name": "python",
   "nbconvert_exporter": "python",
   "pygments_lexer": "ipython3",
   "version": "3.8.6"
  },
  "orig_nbformat": 4,
  "vscode": {
   "interpreter": {
    "hash": "570feb405e2e27c949193ac68f46852414290d515b0ba6e5d90d076ed2284471"
   }
  }
 },
 "nbformat": 4,
 "nbformat_minor": 2
}
